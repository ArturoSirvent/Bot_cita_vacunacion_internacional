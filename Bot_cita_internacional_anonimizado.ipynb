{
 "cells": [
  {
   "cell_type": "code",
   "execution_count": 90,
   "id": "d83e037c",
   "metadata": {},
   "outputs": [],
   "source": [
    "from selenium import webdriver\n",
    "import os \n",
    "import numpy as np\n",
    "from selenium.webdriver.common import keys\n",
    "\n",
    "from selenium.webdriver.common.by import By\n",
    "\n",
    "from selenium.webdriver.support import expected_conditions as EC\n",
    "from selenium.webdriver.support.ui import WebDriverWait\n",
    "import requests\n",
    "from selenium.webdriver.chrome.options import Options\n",
    "from selenium.webdriver.support.select import Select"
   ]
  },
  {
   "cell_type": "code",
   "execution_count": 86,
   "id": "73f5d5b4",
   "metadata": {},
   "outputs": [
    {
     "name": "stdout",
     "output_type": "stream",
     "text": [
      "Collecting phantomjs\n",
      "  Downloading phantomjs-1.4.1-py3-none-any.whl (9.8 kB)\n",
      "Installing collected packages: phantomjs\n",
      "Successfully installed phantomjs-1.4.1\n"
     ]
    }
   ],
   "source": [
    "#!pip install phantomjs"
   ]
  },
  {
   "cell_type": "code",
   "execution_count": 91,
   "id": "4a33d200",
   "metadata": {},
   "outputs": [],
   "source": [
    "#cargamos el driver\n",
    "\n",
    "chrome_options = Options()\n",
    "chrome_options.add_argument(\"--headless\")\n",
    "driver=webdriver.Chrome(\"./driver/chromedriver\",options=chrome_options )\n",
    "#driver=webdriver.PhantomJS()"
   ]
  },
  {
   "cell_type": "code",
   "execution_count": 92,
   "id": "53197fce",
   "metadata": {},
   "outputs": [],
   "source": [
    "#ahora vamos a cargar la pagina de interes\n",
    "driver.get(\"https://sisaex-vac-cita.mscbs.gob.es/sanitarios/consejos/inicioAction.do\")"
   ]
  },
  {
   "cell_type": "code",
   "execution_count": null,
   "id": "b5679e35",
   "metadata": {},
   "outputs": [],
   "source": [
    "#se rellena como texto y lso meses empiezan el 0\n",
    "#el sexo es \"H\" o \"M\"\n",
    "mis_datos={\"dia_nacimiento\": ,\n",
    "          \"mes_nacimiento\": ,\n",
    "          \"anyo_nacimiento\": , \n",
    "          \"sexo\": ,\n",
    "          \"dia_viaje\": ,\n",
    "          \"mes_viaje\": ,\n",
    "          \"anyo_viaje\": ,\n",
    "          \"dracion\": ,\n",
    "          \"provincia\": ,\n",
    "          \"DNI\": ,\n",
    "          \"nombre\": \n",
    "          \"apellido1\": ,\n",
    "          \"apellido2\": ,\n",
    "          \"telefono\": ,\n",
    "          \"email\": , \n",
    "          }"
   ]
  },
  {
   "cell_type": "code",
   "execution_count": 93,
   "id": "a7f753c5",
   "metadata": {},
   "outputs": [],
   "source": [
    "#y tenemos qeu hacer una secuencia de acciones para que clique\n",
    "#y rellene los formularios donde toca\n",
    "driver.find_element_by_xpath('//button[@name=\"comenzar\"]').click()\n"
   ]
  },
  {
   "cell_type": "code",
   "execution_count": 94,
   "id": "fb098f72",
   "metadata": {},
   "outputs": [],
   "source": [
    "#metemos las fechas y el sexo\n",
    "Select(driver.find_element_by_xpath('//select[@name=\"dia\"]')).select_by_value(mis_datos[\"dia_nacimiento\"])\n",
    "Select(driver.find_element_by_xpath('//select[@name=\"mes\"]')).select_by_value(mis_datos[\"mes_nacimiento\"])\n",
    "Select(driver.find_element_by_xpath('//select[@name=\"anyo\"]')).select_by_value(mis_datos[\"anyo_nacimiento\"])\n",
    "Select(driver.find_element_by_xpath('//select[@name=\"sexo\"]')).select_by_value(mis_datos[\"sexo\"])\n",
    "driver.find_element_by_xpath('//input[@name=\"continuar\"]').click()"
   ]
  },
  {
   "cell_type": "code",
   "execution_count": 95,
   "id": "5487f647",
   "metadata": {},
   "outputs": [],
   "source": [
    "#metemos los paises\n",
    "Select(driver.find_element_by_xpath('//select[@name=\"codigoPais\"]')).select_by_value(\"PA\")\n",
    "driver.find_element_by_xpath('//input[@name=\"incluir\"]').click()\n"
   ]
  },
  {
   "cell_type": "code",
   "execution_count": 96,
   "id": "1f6728f4",
   "metadata": {},
   "outputs": [],
   "source": [
    "#siguiente pagina\n",
    "driver.find_element_by_xpath('//input[@name=\"continuar\"]').click()\n"
   ]
  },
  {
   "cell_type": "code",
   "execution_count": 97,
   "id": "910f70b0",
   "metadata": {},
   "outputs": [],
   "source": [
    "#tipo de viaje\n",
    "Select(driver.find_element_by_xpath('//select[@name=\"codigoTipo\"]')).select_by_value(\"1\")\n",
    "driver.find_element_by_xpath('//input[@name=\"incluir\"]').click()\n"
   ]
  },
  {
   "cell_type": "code",
   "execution_count": 98,
   "id": "a751e2f8",
   "metadata": {},
   "outputs": [],
   "source": [
    "#siguiente pagina\n",
    "\n",
    "driver.find_element_by_xpath('//input[@name=\"continuar\"]').click()\n"
   ]
  },
  {
   "cell_type": "code",
   "execution_count": 99,
   "id": "af0816c7",
   "metadata": {},
   "outputs": [],
   "source": [
    "#metemos las fechas y la diracion\n",
    "Select(driver.find_element_by_xpath('//select[@name=\"dia\"]')).select_by_value(mis_datos[\"dia_viaje\"])\n",
    "Select(driver.find_element_by_xpath('//select[@name=\"mes\"]')).select_by_value(mis_datos[\"mes_viaje\"])\n",
    "Select(driver.find_element_by_xpath('//select[@name=\"anyo\"]')).select_by_value(mis_datos[\"anyo_viaje\"])\n",
    "driver.find_element_by_xpath('//input[@name=\"duracion\"]').clear()\n",
    "driver.find_element_by_xpath('//input[@name=\"duracion\"]').send_keys(mis_datos[\"duracion\"])\n",
    "driver.find_element_by_xpath('//input[@name=\"continuar\"]').click()"
   ]
  },
  {
   "cell_type": "code",
   "execution_count": 100,
   "id": "0c434db1",
   "metadata": {},
   "outputs": [],
   "source": [
    "driver.find_element_by_xpath('//input[@value=\"Citar sin certificado digital\"]').click()"
   ]
  },
  {
   "cell_type": "code",
   "execution_count": 101,
   "id": "d4971c0c",
   "metadata": {},
   "outputs": [],
   "source": [
    "Select(driver.find_element_by_xpath('//select[@name=\"codigoProvincia\"]')).select_by_value(mis_datos[\"provincia\"])\n",
    "driver.implicitly_wait(0.2)\n",
    "driver.find_element_by_xpath('//input[@name=\"continuar\"]').click()"
   ]
  },
  {
   "cell_type": "code",
   "execution_count": 102,
   "id": "a371d25b",
   "metadata": {},
   "outputs": [],
   "source": [
    "#ahora rellenamos mis datos \n",
    "driver.find_element_by_xpath('//input[@name=\"nif\"]').send_keys(mis_datos[\"DNI\"])\n",
    "driver.find_element_by_xpath('//input[@name=\"nombre\"]').send_keys(mis_datos[\"nombre\"])\n",
    "driver.find_element_by_xpath('//input[@name=\"apellido1\"]').send_keys(mis_datos[\"apellido1\"])\n",
    "driver.find_element_by_xpath('//input[@name=\"apellido2\"]').send_keys(mis_datos[\"apellido2\"])\n",
    "driver.find_element_by_xpath('//input[@name=\"telefono\"]').send_keys(mis_datos[\"telefono\"])\n",
    "driver.find_element_by_xpath('//input[@name=\"email\"]').send_keys(mis_datos[\"email\"])\n",
    "driver.implicitly_wait(0.2)\n",
    "driver.find_element_by_xpath('//input[@name=\"addViajero\"]').click()\n",
    "driver.implicitly_wait(0.5)"
   ]
  },
  {
   "cell_type": "code",
   "execution_count": 103,
   "id": "bb39b7b6",
   "metadata": {},
   "outputs": [],
   "source": [
    "driver.find_element_by_xpath('//input[@name=\"continuar\"]').click()"
   ]
  },
  {
   "cell_type": "code",
   "execution_count": 104,
   "id": "850feacb",
   "metadata": {},
   "outputs": [
    {
     "name": "stdout",
     "output_type": "stream",
     "text": [
      "Para el día 5, mes 6, si hay citas.\n",
      "Para el día 8, mes 6, si hay citas.\n",
      "Para el día 9, mes 6, si hay citas.\n",
      "Para el día 10, mes 6, si hay citas.\n",
      "Para el día 18, mes 6, si hay citas.\n",
      "Para el día 19, mes 6, si hay citas.\n",
      "Para el día 20, mes 6, si hay citas.\n",
      "Para el día 21, mes 6, si hay citas.\n"
     ]
    }
   ],
   "source": [
    "#por último, tenemos que hacer un bucle que vaya por todas la fechas de hoy hacia adelante, \n",
    "#y pare cuando encuentre a fecha mas cercana\n",
    "\n",
    "#fata una fecha, se ejecuta esto\n",
    "for i in [5,6]:\n",
    "    for j in range(1,31):\n",
    "\n",
    "        Select(driver.find_element_by_xpath('//select[@name=\"dia\"]')).select_by_value(str(j))\n",
    "        Select(driver.find_element_by_xpath('//select[@name=\"mes\"]')).select_by_value(str(i))\n",
    "        Select(driver.find_element_by_xpath('//select[@name=\"anyo\"]')).select_by_value(\"2022\")\n",
    "        #driver.implicitly_wait(0.1)\n",
    "        element = WebDriverWait(driver, 5).until(EC.element_to_be_clickable((By.XPATH, '//input[@name=\"cambiarFecha\"]')))\n",
    "        #driver.find_element_by_xpath('//input[@name=\"cambiarFecha\"]').click()\n",
    "        #driver.implicitly_wait(0.1)\n",
    "        element.click();\n",
    "        #y una vez cambiada la fecha, se intenta sacar la tabla y si sale por algun lado\n",
    "        #la palabra cita y tal\n",
    "        try:\n",
    "            aux=driver.find_elements_by_xpath('//tr//input[@name=\"cita\"]')\n",
    "        except:\n",
    "            print(\"Nop\")\n",
    "            \n",
    "        if aux:\n",
    "            print(f\"Para el día {j}, mes {i}, si hay citas.\")\n",
    "        else:\n",
    "            pass"
   ]
  },
  {
   "cell_type": "code",
   "execution_count": null,
   "id": "1e3de4f1",
   "metadata": {},
   "outputs": [],
   "source": []
  }
 ],
 "metadata": {
  "kernelspec": {
   "display_name": "Python 3.8.11 64-bit ('env1': conda)",
   "language": "python",
   "name": "python3811jvsc74a57bd0a2d51eeffc2c120f5031b7bde6ffb008145a35a68e4bb66d0d15300374e07605"
  },
  "language_info": {
   "codemirror_mode": {
    "name": "ipython",
    "version": 3
   },
   "file_extension": ".py",
   "mimetype": "text/x-python",
   "name": "python",
   "nbconvert_exporter": "python",
   "pygments_lexer": "ipython3",
   "version": "3.8.11"
  }
 },
 "nbformat": 4,
 "nbformat_minor": 5
}
